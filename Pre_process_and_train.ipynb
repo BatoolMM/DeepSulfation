{
  "nbformat": 4,
  "nbformat_minor": 0,
  "metadata": {
    "colab": {
      "name": "Pre-process_and_train.ipynb",
      "provenance": [],
      "authorship_tag": "ABX9TyPaW7gfPzj8+urCs/mdTY3e",
      "include_colab_link": true
    },
    "kernelspec": {
      "name": "python3",
      "display_name": "Python 3"
    },
    "accelerator": "GPU"
  },
  "cells": [
    {
      "cell_type": "markdown",
      "metadata": {
        "id": "view-in-github",
        "colab_type": "text"
      },
      "source": [
        "<a href=\"https://colab.research.google.com/github/BatoolMM/DeepSulfation/blob/master/Pre_process_and_train.ipynb\" target=\"_parent\"><img src=\"https://colab.research.google.com/assets/colab-badge.svg\" alt=\"Open In Colab\"/></a>"
      ]
    },
    {
      "cell_type": "code",
      "metadata": {
        "id": "jUaFnVj1KG-P",
        "colab_type": "code",
        "colab": {}
      },
      "source": [
        "!pip install -Uqq fastbook\n",
        "!pip install fastcore==1.0.9\n",
        "!pip install utils"
      ],
      "execution_count": null,
      "outputs": []
    },
    {
      "cell_type": "code",
      "metadata": {
        "id": "x-Hv1efgJZ1f",
        "colab_type": "code",
        "colab": {}
      },
      "source": [
        "import pandas as pd\n",
        "import csv\n",
        "import numpy as np\n",
        "import keras.utils.np_utils as kutils\n",
        "import matplotlib.pyplot as plt\n",
        "from utils import *\n",
        "import fastbook\n",
        "from fastbook import *\n",
        "from fastai.vision.all import *\n",
        "from fastai.vision.widgets import ImageClassifierCleaner"
      ],
      "execution_count": 2,
      "outputs": []
    },
    {
      "cell_type": "code",
      "metadata": {
        "id": "vwqk_-l1Juj-",
        "colab_type": "code",
        "colab": {}
      },
      "source": [
        "file = '/content/CG-20-306_SD1.xlsx'\n",
        "training = pd.read_excel(file, sheet_name=0)\n",
        "test =pd.read_excel(file, sheet_name=1)"
      ],
      "execution_count": 14,
      "outputs": []
    },
    {
      "cell_type": "code",
      "metadata": {
        "id": "CFr8ZLiKSvTV",
        "colab_type": "code",
        "colab": {
          "base_uri": "https://localhost:8080/",
          "height": 111
        },
        "outputId": "fc94e9c4-211a-4f27-ab5b-802db126fcab"
      },
      "source": [
        "training.head(2)"
      ],
      "execution_count": 15,
      "outputs": [
        {
          "output_type": "execute_result",
          "data": {
            "text/html": [
              "<div>\n",
              "<style scoped>\n",
              "    .dataframe tbody tr th:only-of-type {\n",
              "        vertical-align: middle;\n",
              "    }\n",
              "\n",
              "    .dataframe tbody tr th {\n",
              "        vertical-align: top;\n",
              "    }\n",
              "\n",
              "    .dataframe thead th {\n",
              "        text-align: right;\n",
              "    }\n",
              "</style>\n",
              "<table border=\"1\" class=\"dataframe\">\n",
              "  <thead>\n",
              "    <tr style=\"text-align: right;\">\n",
              "      <th></th>\n",
              "      <th>POSITIVE</th>\n",
              "      <th>Unnamed: 1</th>\n",
              "      <th>Unnamed: 2</th>\n",
              "    </tr>\n",
              "  </thead>\n",
              "  <tbody>\n",
              "    <tr>\n",
              "      <th>0</th>\n",
              "      <td>P14543</td>\n",
              "      <td>ATTNGVVPADVILGTEDGAEYDDEDEDYDLATTRLGLEDVG</td>\n",
              "      <td>2.0</td>\n",
              "    </tr>\n",
              "    <tr>\n",
              "      <th>1</th>\n",
              "      <td>P14543</td>\n",
              "      <td>PADVILGTEDGAEYDDEDEDYDLATTRLGLEDVGTTPFSYK</td>\n",
              "      <td>2.0</td>\n",
              "    </tr>\n",
              "  </tbody>\n",
              "</table>\n",
              "</div>"
            ],
            "text/plain": [
              "  POSITIVE                                 Unnamed: 1  Unnamed: 2\n",
              "0   P14543  ATTNGVVPADVILGTEDGAEYDDEDEDYDLATTRLGLEDVG         2.0\n",
              "1   P14543  PADVILGTEDGAEYDDEDEDYDLATTRLGLEDVGTTPFSYK         2.0"
            ]
          },
          "metadata": {
            "tags": []
          },
          "execution_count": 15
        }
      ]
    },
    {
      "cell_type": "code",
      "metadata": {
        "id": "juFU_v-qc9BW",
        "colab_type": "code",
        "colab": {
          "base_uri": "https://localhost:8080/",
          "height": 111
        },
        "outputId": "03a7d18e-8d5f-4cc2-b070-04b7871734ed"
      },
      "source": [
        "removed_row = training['POSITIVE'].eq('NEGATIVE')\n",
        "mask = removed_row.cumsum().eq(0)\n",
        "training['Target'] = np.where(mask, '1', '0')\n",
        "training = training[~removed_row].copy()\n",
        "training.head(2)\n"
      ],
      "execution_count": 16,
      "outputs": [
        {
          "output_type": "execute_result",
          "data": {
            "text/html": [
              "<div>\n",
              "<style scoped>\n",
              "    .dataframe tbody tr th:only-of-type {\n",
              "        vertical-align: middle;\n",
              "    }\n",
              "\n",
              "    .dataframe tbody tr th {\n",
              "        vertical-align: top;\n",
              "    }\n",
              "\n",
              "    .dataframe thead th {\n",
              "        text-align: right;\n",
              "    }\n",
              "</style>\n",
              "<table border=\"1\" class=\"dataframe\">\n",
              "  <thead>\n",
              "    <tr style=\"text-align: right;\">\n",
              "      <th></th>\n",
              "      <th>POSITIVE</th>\n",
              "      <th>Unnamed: 1</th>\n",
              "      <th>Unnamed: 2</th>\n",
              "      <th>Target</th>\n",
              "    </tr>\n",
              "  </thead>\n",
              "  <tbody>\n",
              "    <tr>\n",
              "      <th>0</th>\n",
              "      <td>P14543</td>\n",
              "      <td>ATTNGVVPADVILGTEDGAEYDDEDEDYDLATTRLGLEDVG</td>\n",
              "      <td>2.0</td>\n",
              "      <td>1</td>\n",
              "    </tr>\n",
              "    <tr>\n",
              "      <th>1</th>\n",
              "      <td>P14543</td>\n",
              "      <td>PADVILGTEDGAEYDDEDEDYDLATTRLGLEDVGTTPFSYK</td>\n",
              "      <td>2.0</td>\n",
              "      <td>1</td>\n",
              "    </tr>\n",
              "  </tbody>\n",
              "</table>\n",
              "</div>"
            ],
            "text/plain": [
              "  POSITIVE                                 Unnamed: 1  Unnamed: 2 Target\n",
              "0   P14543  ATTNGVVPADVILGTEDGAEYDDEDEDYDLATTRLGLEDVG         2.0      1\n",
              "1   P14543  PADVILGTEDGAEYDDEDEDYDLATTRLGLEDVGTTPFSYK         2.0      1"
            ]
          },
          "metadata": {
            "tags": []
          },
          "execution_count": 16
        }
      ]
    },
    {
      "cell_type": "code",
      "metadata": {
        "id": "xnyobyNnc9Xe",
        "colab_type": "code",
        "colab": {
          "base_uri": "https://localhost:8080/",
          "height": 34
        },
        "outputId": "b5da9537-3974-4a83-8505-f2ae369b22dd"
      },
      "source": [
        "training.columns"
      ],
      "execution_count": 17,
      "outputs": [
        {
          "output_type": "execute_result",
          "data": {
            "text/plain": [
              "Index(['POSITIVE', 'Unnamed: 1', 'Unnamed: 2', 'Target'], dtype='object')"
            ]
          },
          "metadata": {
            "tags": []
          },
          "execution_count": 17
        }
      ]
    },
    {
      "cell_type": "code",
      "metadata": {
        "id": "RedTYxnOJuuS",
        "colab_type": "code",
        "colab": {
          "base_uri": "https://localhost:8080/",
          "height": 204
        },
        "outputId": "38a0686a-fec8-4f3c-a5ca-9299b4499d03"
      },
      "source": [
        "training.rename(\n",
        "    columns = {'POSITIVE':'ID',\n",
        "               'Unnamed: 1':'seq',\n",
        "               'Unnamed: 2': 'site',\n",
        "               'Target': 'Label'}, \n",
        "               inplace = True)\n",
        "training.drop('site', axis=1, inplace=True)\n",
        "\n",
        "def indexe(string, char):\n",
        "  for i, j in enumerate(char):\n",
        "    if j == char :\n",
        "      yield i\n",
        "\n",
        "def ind(my_list, desired_element):\n",
        "    return [index for index, element in enumerate(my_list) if element == desired_element]\n",
        "\n",
        "\n",
        "training['pos'] = training['seq'].apply(lambda x: ind(x,'Y'))\n",
        "training.head(5)"
      ],
      "execution_count": 18,
      "outputs": [
        {
          "output_type": "execute_result",
          "data": {
            "text/html": [
              "<div>\n",
              "<style scoped>\n",
              "    .dataframe tbody tr th:only-of-type {\n",
              "        vertical-align: middle;\n",
              "    }\n",
              "\n",
              "    .dataframe tbody tr th {\n",
              "        vertical-align: top;\n",
              "    }\n",
              "\n",
              "    .dataframe thead th {\n",
              "        text-align: right;\n",
              "    }\n",
              "</style>\n",
              "<table border=\"1\" class=\"dataframe\">\n",
              "  <thead>\n",
              "    <tr style=\"text-align: right;\">\n",
              "      <th></th>\n",
              "      <th>ID</th>\n",
              "      <th>seq</th>\n",
              "      <th>Label</th>\n",
              "      <th>pos</th>\n",
              "    </tr>\n",
              "  </thead>\n",
              "  <tbody>\n",
              "    <tr>\n",
              "      <th>0</th>\n",
              "      <td>P14543</td>\n",
              "      <td>ATTNGVVPADVILGTEDGAEYDDEDEDYDLATTRLGLEDVG</td>\n",
              "      <td>1</td>\n",
              "      <td>[20, 27]</td>\n",
              "    </tr>\n",
              "    <tr>\n",
              "      <th>1</th>\n",
              "      <td>P14543</td>\n",
              "      <td>PADVILGTEDGAEYDDEDEDYDLATTRLGLEDVGTTPFSYK</td>\n",
              "      <td>1</td>\n",
              "      <td>[13, 20, 39]</td>\n",
              "    </tr>\n",
              "    <tr>\n",
              "      <th>2</th>\n",
              "      <td>P10493</td>\n",
              "      <td>TAKGVVSADVNLDLDDDGADYEDEDYDLVTSHLGLEDVATP</td>\n",
              "      <td>1</td>\n",
              "      <td>[20, 25]</td>\n",
              "    </tr>\n",
              "    <tr>\n",
              "      <th>3</th>\n",
              "      <td>P10493</td>\n",
              "      <td>VSADVNLDLDDDGADYEDEDYDLVTSHLGLEDVATPSPSHS</td>\n",
              "      <td>1</td>\n",
              "      <td>[15, 20]</td>\n",
              "    </tr>\n",
              "    <tr>\n",
              "      <th>4</th>\n",
              "      <td>P13521</td>\n",
              "      <td>ENKPYALNSEKNFPMDMSDDYETQQWPERKLKHMQFPPMYE</td>\n",
              "      <td>1</td>\n",
              "      <td>[4, 20, 39]</td>\n",
              "    </tr>\n",
              "  </tbody>\n",
              "</table>\n",
              "</div>"
            ],
            "text/plain": [
              "       ID                                        seq Label           pos\n",
              "0  P14543  ATTNGVVPADVILGTEDGAEYDDEDEDYDLATTRLGLEDVG     1      [20, 27]\n",
              "1  P14543  PADVILGTEDGAEYDDEDEDYDLATTRLGLEDVGTTPFSYK     1  [13, 20, 39]\n",
              "2  P10493  TAKGVVSADVNLDLDDDGADYEDEDYDLVTSHLGLEDVATP     1      [20, 25]\n",
              "3  P10493  VSADVNLDLDDDGADYEDEDYDLVTSHLGLEDVATPSPSHS     1      [15, 20]\n",
              "4  P13521  ENKPYALNSEKNFPMDMSDDYETQQWPERKLKHMQFPPMYE     1   [4, 20, 39]"
            ]
          },
          "metadata": {
            "tags": []
          },
          "execution_count": 18
        }
      ]
    },
    {
      "cell_type": "code",
      "metadata": {
        "id": "ZcYhCwDqFl2m",
        "colab_type": "code",
        "colab": {
          "base_uri": "https://localhost:8080/",
          "height": 111
        },
        "outputId": "fc14d6e9-8853-488c-e3c7-377f1d6cf648"
      },
      "source": [
        "test.tail(2)"
      ],
      "execution_count": 19,
      "outputs": [
        {
          "output_type": "execute_result",
          "data": {
            "text/html": [
              "<div>\n",
              "<style scoped>\n",
              "    .dataframe tbody tr th:only-of-type {\n",
              "        vertical-align: middle;\n",
              "    }\n",
              "\n",
              "    .dataframe tbody tr th {\n",
              "        vertical-align: top;\n",
              "    }\n",
              "\n",
              "    .dataframe thead th {\n",
              "        text-align: right;\n",
              "    }\n",
              "</style>\n",
              "<table border=\"1\" class=\"dataframe\">\n",
              "  <thead>\n",
              "    <tr style=\"text-align: right;\">\n",
              "      <th></th>\n",
              "      <th>POSITIVE</th>\n",
              "      <th>Unnamed: 1</th>\n",
              "      <th>Unnamed: 2</th>\n",
              "    </tr>\n",
              "  </thead>\n",
              "  <tbody>\n",
              "    <tr>\n",
              "      <th>159</th>\n",
              "      <td>P08238</td>\n",
              "      <td>KNIVKKCLELFSELAEDKENYKKFYEAFSKNLKLGIHEDST</td>\n",
              "      <td>NaN</td>\n",
              "    </tr>\n",
              "    <tr>\n",
              "      <th>160</th>\n",
              "      <td>Q03834</td>\n",
              "      <td>MLHSDLATFCLAIREEPGNFYNETQLDSSTIVQKLNTKIFG</td>\n",
              "      <td>NaN</td>\n",
              "    </tr>\n",
              "  </tbody>\n",
              "</table>\n",
              "</div>"
            ],
            "text/plain": [
              "    POSITIVE                                 Unnamed: 1  Unnamed: 2\n",
              "159   P08238  KNIVKKCLELFSELAEDKENYKKFYEAFSKNLKLGIHEDST         NaN\n",
              "160   Q03834  MLHSDLATFCLAIREEPGNFYNETQLDSSTIVQKLNTKIFG         NaN"
            ]
          },
          "metadata": {
            "tags": []
          },
          "execution_count": 19
        }
      ]
    },
    {
      "cell_type": "code",
      "metadata": {
        "id": "DAyN9Dq-ERuR",
        "colab_type": "code",
        "colab": {
          "base_uri": "https://localhost:8080/",
          "height": 204
        },
        "outputId": "e1c23ab7-b048-4a32-edd3-c972d7be8fcd"
      },
      "source": [
        "removed_row_test = test['POSITIVE'].eq('NEGATIVE')\n",
        "mask = removed_row_test.cumsum().eq(0)\n",
        "test['Target'] = np.where(mask, '1', '0')\n",
        "test = test[~removed_row_test].copy()\n",
        "test.head(5)"
      ],
      "execution_count": 23,
      "outputs": [
        {
          "output_type": "execute_result",
          "data": {
            "text/html": [
              "<div>\n",
              "<style scoped>\n",
              "    .dataframe tbody tr th:only-of-type {\n",
              "        vertical-align: middle;\n",
              "    }\n",
              "\n",
              "    .dataframe tbody tr th {\n",
              "        vertical-align: top;\n",
              "    }\n",
              "\n",
              "    .dataframe thead th {\n",
              "        text-align: right;\n",
              "    }\n",
              "</style>\n",
              "<table border=\"1\" class=\"dataframe\">\n",
              "  <thead>\n",
              "    <tr style=\"text-align: right;\">\n",
              "      <th></th>\n",
              "      <th>POSITIVE</th>\n",
              "      <th>Unnamed: 1</th>\n",
              "      <th>Unnamed: 2</th>\n",
              "      <th>Target</th>\n",
              "    </tr>\n",
              "  </thead>\n",
              "  <tbody>\n",
              "    <tr>\n",
              "      <th>0</th>\n",
              "      <td>P49682</td>\n",
              "      <td>DHQVLNDAEVAALLENFSSSYDYGENESDSCCTSPPCPQDF</td>\n",
              "      <td>6.0</td>\n",
              "      <td>1</td>\n",
              "    </tr>\n",
              "    <tr>\n",
              "      <th>1</th>\n",
              "      <td>P49682</td>\n",
              "      <td>QVLNDAEVAALLENFSSSYDYGENESDSCCTSPPCPQDFSL</td>\n",
              "      <td>6.0</td>\n",
              "      <td>1</td>\n",
              "    </tr>\n",
              "    <tr>\n",
              "      <th>2</th>\n",
              "      <td>Q7M3V5</td>\n",
              "      <td>DLMDFLLEYEDEDRSKRFDDYGHMRFGKRGGEEQFDDYGHM</td>\n",
              "      <td>2.0</td>\n",
              "      <td>1</td>\n",
              "    </tr>\n",
              "    <tr>\n",
              "      <th>3</th>\n",
              "      <td>Q8NBP7</td>\n",
              "      <td>LLLLLLGPAGARAQEDEDGDYEELVLALRSEEDGLAEAPEH</td>\n",
              "      <td>23.0</td>\n",
              "      <td>1</td>\n",
              "    </tr>\n",
              "    <tr>\n",
              "      <th>4</th>\n",
              "      <td>Q9NZ53</td>\n",
              "      <td>PGSGFPSEENEESRILQPPQYFWEEEEELNDSSLDLGPTAD</td>\n",
              "      <td>7.0</td>\n",
              "      <td>1</td>\n",
              "    </tr>\n",
              "  </tbody>\n",
              "</table>\n",
              "</div>"
            ],
            "text/plain": [
              "  POSITIVE                                 Unnamed: 1  Unnamed: 2 Target\n",
              "0   P49682  DHQVLNDAEVAALLENFSSSYDYGENESDSCCTSPPCPQDF         6.0      1\n",
              "1   P49682  QVLNDAEVAALLENFSSSYDYGENESDSCCTSPPCPQDFSL         6.0      1\n",
              "2   Q7M3V5  DLMDFLLEYEDEDRSKRFDDYGHMRFGKRGGEEQFDDYGHM         2.0      1\n",
              "3   Q8NBP7  LLLLLLGPAGARAQEDEDGDYEELVLALRSEEDGLAEAPEH        23.0      1\n",
              "4   Q9NZ53  PGSGFPSEENEESRILQPPQYFWEEEEELNDSSLDLGPTAD         7.0      1"
            ]
          },
          "metadata": {
            "tags": []
          },
          "execution_count": 23
        }
      ]
    },
    {
      "cell_type": "code",
      "metadata": {
        "id": "dWoLYKwCESSy",
        "colab_type": "code",
        "colab": {}
      },
      "source": [
        "test.rename(\n",
        "    columns = {'POSITIVE':'ID',\n",
        "               'Unnamed: 1':'seq',\n",
        "               'Unnamed: 2': 'site',\n",
        "               'Target': 'Label'},\n",
        "            inplace = True)\n",
        "test.drop('site', axis=1, inplace=True)"
      ],
      "execution_count": 29,
      "outputs": []
    },
    {
      "cell_type": "code",
      "metadata": {
        "id": "Z3_GACisyWWn",
        "colab_type": "code",
        "colab": {
          "base_uri": "https://localhost:8080/",
          "height": 204
        },
        "outputId": "682db954-4ccd-4f1f-c7e2-86cbba0dd897"
      },
      "source": [
        "#test['pos'] = test['seq'].apply(lambda x: for i, j in enumerate(x) if j = 'Y' )\n",
        "#test['pos'] = test['seq'].apply(lambda x: ind(x,'Y'))\n",
        "\n",
        "test['pos'] = test['seq'].apply(lambda x: ind(x,'Y'))\n",
        "\n",
        "test.head(5)"
      ],
      "execution_count": 33,
      "outputs": [
        {
          "output_type": "execute_result",
          "data": {
            "text/html": [
              "<div>\n",
              "<style scoped>\n",
              "    .dataframe tbody tr th:only-of-type {\n",
              "        vertical-align: middle;\n",
              "    }\n",
              "\n",
              "    .dataframe tbody tr th {\n",
              "        vertical-align: top;\n",
              "    }\n",
              "\n",
              "    .dataframe thead th {\n",
              "        text-align: right;\n",
              "    }\n",
              "</style>\n",
              "<table border=\"1\" class=\"dataframe\">\n",
              "  <thead>\n",
              "    <tr style=\"text-align: right;\">\n",
              "      <th></th>\n",
              "      <th>ID</th>\n",
              "      <th>seq</th>\n",
              "      <th>Label</th>\n",
              "      <th>pos</th>\n",
              "    </tr>\n",
              "  </thead>\n",
              "  <tbody>\n",
              "    <tr>\n",
              "      <th>0</th>\n",
              "      <td>P49682</td>\n",
              "      <td>DHQVLNDAEVAALLENFSSSYDYGENESDSCCTSPPCPQDF</td>\n",
              "      <td>1</td>\n",
              "      <td>[20, 22]</td>\n",
              "    </tr>\n",
              "    <tr>\n",
              "      <th>1</th>\n",
              "      <td>P49682</td>\n",
              "      <td>QVLNDAEVAALLENFSSSYDYGENESDSCCTSPPCPQDFSL</td>\n",
              "      <td>1</td>\n",
              "      <td>[18, 20]</td>\n",
              "    </tr>\n",
              "    <tr>\n",
              "      <th>2</th>\n",
              "      <td>Q7M3V5</td>\n",
              "      <td>DLMDFLLEYEDEDRSKRFDDYGHMRFGKRGGEEQFDDYGHM</td>\n",
              "      <td>1</td>\n",
              "      <td>[8, 20, 37]</td>\n",
              "    </tr>\n",
              "    <tr>\n",
              "      <th>3</th>\n",
              "      <td>Q8NBP7</td>\n",
              "      <td>LLLLLLGPAGARAQEDEDGDYEELVLALRSEEDGLAEAPEH</td>\n",
              "      <td>1</td>\n",
              "      <td>[20]</td>\n",
              "    </tr>\n",
              "    <tr>\n",
              "      <th>4</th>\n",
              "      <td>Q9NZ53</td>\n",
              "      <td>PGSGFPSEENEESRILQPPQYFWEEEEELNDSSLDLGPTAD</td>\n",
              "      <td>1</td>\n",
              "      <td>[20]</td>\n",
              "    </tr>\n",
              "  </tbody>\n",
              "</table>\n",
              "</div>"
            ],
            "text/plain": [
              "       ID                                        seq Label          pos\n",
              "0  P49682  DHQVLNDAEVAALLENFSSSYDYGENESDSCCTSPPCPQDF     1     [20, 22]\n",
              "1  P49682  QVLNDAEVAALLENFSSSYDYGENESDSCCTSPPCPQDFSL     1     [18, 20]\n",
              "2  Q7M3V5  DLMDFLLEYEDEDRSKRFDDYGHMRFGKRGGEEQFDDYGHM     1  [8, 20, 37]\n",
              "3  Q8NBP7  LLLLLLGPAGARAQEDEDGDYEELVLALRSEEDGLAEAPEH     1         [20]\n",
              "4  Q9NZ53  PGSGFPSEENEESRILQPPQYFWEEEEELNDSSLDLGPTAD     1         [20]"
            ]
          },
          "metadata": {
            "tags": []
          },
          "execution_count": 33
        }
      ]
    },
    {
      "cell_type": "code",
      "metadata": {
        "id": "hOkBFOF3NuVn",
        "colab_type": "code",
        "colab": {}
      },
      "source": [
        "training.to_csv('cleaned_training.csv')\n",
        "test.to_csv('cleaned_test.csv')"
      ],
      "execution_count": 34,
      "outputs": []
    },
    {
      "cell_type": "code",
      "metadata": {
        "id": "2Gv2B3cFJu2R",
        "colab_type": "code",
        "colab": {}
      },
      "source": [
        "def getMatrixLabel(positive_position_file_name,sites, window_size=51, empty_aa = '*'):\n",
        "    # input format   label, proteinName, postion,shortsequence,\n",
        "    prot = []  # list of protein name\n",
        "    pos = []  # list of position with protein name\n",
        "    rawseq = []\n",
        "    all_label = []\n",
        "\n",
        "    short_seqs = []\n",
        "    half_len = (window_size - 1) / 2\n",
        "\n",
        "    with open(positive_position_file_name, 'r') as rf:\n",
        "        reader = csv.reader(rf)\n",
        "        for row in reader:\n",
        "\n",
        "            position = int(row[2])\n",
        "            sseq = row[3]\n",
        "            rawseq.append(row[3])\n",
        "            center = sseq[position - 1]\n",
        "            if center in sites:\n",
        "                all_label.append(int(row[0]))\n",
        "                prot.append(row[1])\n",
        "                pos.append(row[2])\n",
        "\n",
        "                #short seq\n",
        "                if position - half_len > 0:\n",
        "                    start = position - half_len\n",
        "                    left_seq = sseq[start - 1:position - 1]\n",
        "                else:\n",
        "                    left_seq = sseq[0:position - 1]\n",
        "\n",
        "                end = len(sseq)\n",
        "                if position + half_len < end:\n",
        "                    end = position + half_len\n",
        "                right_seq = sseq[position:end]\n",
        "\n",
        "                if len(left_seq) < half_len:\n",
        "                    nb_lack = half_len - len(left_seq)\n",
        "                    left_seq = ''.join([empty_aa for count in range(nb_lack)]) + left_seq\n",
        "\n",
        "                if len(right_seq) < half_len:\n",
        "                    nb_lack = half_len - len(right_seq)\n",
        "                    right_seq = right_seq + ''.join([empty_aa for count in range(nb_lack)])\n",
        "                shortseq = left_seq + center + right_seq\n",
        "                short_seqs.append(shortseq)\n",
        "                # coding = one_hot_concat(shortseq)\n",
        "                # all_codings.append(coding)\n",
        "\n",
        "        targetY = kutils.to_categorical(all_label)\n",
        "\n",
        "        ONE_HOT_SIZE = 21\n",
        "        # _aminos = 'ACDEFGHIKLMNPQRSTVWY*'\n",
        "        letterDict = {}\n",
        "        letterDict[\"A\"] = 0\n",
        "        letterDict[\"C\"] = 1\n",
        "        letterDict[\"D\"] = 2\n",
        "        letterDict[\"E\"] = 3\n",
        "        letterDict[\"F\"] = 4\n",
        "        letterDict[\"G\"] = 5\n",
        "        letterDict[\"H\"] = 6\n",
        "        letterDict[\"I\"] = 7\n",
        "        letterDict[\"K\"] = 8\n",
        "        letterDict[\"L\"] = 9\n",
        "        letterDict[\"M\"] = 10\n",
        "        letterDict[\"N\"] = 11\n",
        "        letterDict[\"P\"] = 12\n",
        "        letterDict[\"Q\"] = 13\n",
        "        letterDict[\"R\"] = 14\n",
        "        letterDict[\"S\"] = 15\n",
        "        letterDict[\"T\"] = 16\n",
        "        letterDict[\"V\"] = 17\n",
        "        letterDict[\"W\"] = 18\n",
        "        letterDict[\"Y\"] = 19\n",
        "        letterDict[\"*\"] = 20\n",
        "\n",
        "        Matr = np.zeros((len(short_seqs), window_size, ONE_HOT_SIZE))\n",
        "        samplenumber = 0\n",
        "        for seq in short_seqs:\n",
        "            AANo = 0\n",
        "            for AA in seq:\n",
        "                index = letterDict[AA]\n",
        "                Matr[samplenumber][AANo][index] = 1\n",
        "                AANo = AANo+1\n",
        "            samplenumber = samplenumber + 1\n",
        "\n",
        "    return Matr, targetY\n"
      ],
      "execution_count": 35,
      "outputs": []
    },
    {
      "cell_type": "code",
      "metadata": {
        "id": "AGwMEafnfQLG",
        "colab_type": "code",
        "colab": {
          "base_uri": "https://localhost:8080/",
          "height": 111
        },
        "outputId": "d01b0e26-4164-44c9-cd4e-4481df7a85d0"
      },
      "source": [
        "#minimal example:\n",
        "d = {'col1': ['SYDYGENESD', 'SSYDYGENE'], \n",
        "'col2': ['A','B' ]}\n",
        "\n",
        "data = pd.DataFrame(data=d)\n",
        "data.head()\n",
        "\n",
        "data['new_col'] = data['col1'].str.index('Y')\n",
        "data.head()\n",
        "\n",
        "target = {'col1': ['SYDYGENESD', 'SSYDYGENE'],\n",
        "          'col2': ['A','B'],\n",
        "          'col3':['1, 3','2, 4']}\n",
        "target = pd.DataFrame(data=target)\n",
        "target.head()"
      ],
      "execution_count": 22,
      "outputs": [
        {
          "output_type": "execute_result",
          "data": {
            "text/html": [
              "<div>\n",
              "<style scoped>\n",
              "    .dataframe tbody tr th:only-of-type {\n",
              "        vertical-align: middle;\n",
              "    }\n",
              "\n",
              "    .dataframe tbody tr th {\n",
              "        vertical-align: top;\n",
              "    }\n",
              "\n",
              "    .dataframe thead th {\n",
              "        text-align: right;\n",
              "    }\n",
              "</style>\n",
              "<table border=\"1\" class=\"dataframe\">\n",
              "  <thead>\n",
              "    <tr style=\"text-align: right;\">\n",
              "      <th></th>\n",
              "      <th>col1</th>\n",
              "      <th>col2</th>\n",
              "      <th>col3</th>\n",
              "    </tr>\n",
              "  </thead>\n",
              "  <tbody>\n",
              "    <tr>\n",
              "      <th>0</th>\n",
              "      <td>SYDYGENESD</td>\n",
              "      <td>A</td>\n",
              "      <td>1, 3</td>\n",
              "    </tr>\n",
              "    <tr>\n",
              "      <th>1</th>\n",
              "      <td>SSYDYGENE</td>\n",
              "      <td>B</td>\n",
              "      <td>2, 4</td>\n",
              "    </tr>\n",
              "  </tbody>\n",
              "</table>\n",
              "</div>"
            ],
            "text/plain": [
              "         col1 col2  col3\n",
              "0  SYDYGENESD    A  1, 3\n",
              "1   SSYDYGENE    B  2, 4"
            ]
          },
          "metadata": {
            "tags": []
          },
          "execution_count": 22
        }
      ]
    },
    {
      "cell_type": "code",
      "metadata": {
        "id": "tj-OjhccfjoG",
        "colab_type": "code",
        "colab": {}
      },
      "source": [
        ""
      ],
      "execution_count": null,
      "outputs": []
    }
  ]
}