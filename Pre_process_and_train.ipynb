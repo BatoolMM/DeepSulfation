{
  "nbformat": 4,
  "nbformat_minor": 0,
  "metadata": {
    "colab": {
      "name": "Pre-process_and_train.ipynb",
      "provenance": [],
      "authorship_tag": "ABX9TyNp1B4qhFhmvx7fJwqN570m",
      "include_colab_link": true
    },
    "kernelspec": {
      "name": "python3",
      "display_name": "Python 3"
    },
    "accelerator": "GPU"
  },
  "cells": [
    {
      "cell_type": "markdown",
      "metadata": {
        "id": "view-in-github",
        "colab_type": "text"
      },
      "source": [
        "<a href=\"https://colab.research.google.com/github/BatoolMM/DeepSulfation/blob/master/Pre_process_and_train.ipynb\" target=\"_parent\"><img src=\"https://colab.research.google.com/assets/colab-badge.svg\" alt=\"Open In Colab\"/></a>"
      ]
    },
    {
      "cell_type": "code",
      "metadata": {
        "id": "jUaFnVj1KG-P",
        "colab_type": "code",
        "colab": {}
      },
      "source": [
        "!pip install -Uqq fastbook\n",
        "!pip install fastcore==1.0.9\n",
        "!pip install utils"
      ],
      "execution_count": null,
      "outputs": []
    },
    {
      "cell_type": "code",
      "metadata": {
        "id": "x-Hv1efgJZ1f",
        "colab_type": "code",
        "colab": {}
      },
      "source": [
        "import pandas as pd\n",
        "import csv\n",
        "import numpy as np\n",
        "import keras.utils.np_utils as kutils\n",
        "import matplotlib.pyplot as plt\n",
        "from utils import *\n",
        "import fastbook\n",
        "from fastbook import *\n",
        "from fastai.vision.all import *\n",
        "from fastai.vision.widgets import ImageClassifierCleaner"
      ],
      "execution_count": 3,
      "outputs": []
    },
    {
      "cell_type": "code",
      "metadata": {
        "id": "vwqk_-l1Juj-",
        "colab_type": "code",
        "colab": {}
      },
      "source": [
        "file = '/content/CG-20-306_SD1.xlsx'\n",
        "training = pd.read_excel(file, sheet_name=0, index_col=0)\n",
        "test =pd.read_excel(file, sheet_name=1, index_col=0)"
      ],
      "execution_count": 24,
      "outputs": []
    },
    {
      "cell_type": "code",
      "metadata": {
        "id": "RedTYxnOJuuS",
        "colab_type": "code",
        "colab": {
          "base_uri": "https://localhost:8080/",
          "height": 235
        },
        "outputId": "c83d9933-7111-4976-cdf6-aaba9f9eb4af"
      },
      "source": [
        "training.head(5)"
      ],
      "execution_count": 25,
      "outputs": [
        {
          "output_type": "execute_result",
          "data": {
            "text/html": [
              "<div>\n",
              "<style scoped>\n",
              "    .dataframe tbody tr th:only-of-type {\n",
              "        vertical-align: middle;\n",
              "    }\n",
              "\n",
              "    .dataframe tbody tr th {\n",
              "        vertical-align: top;\n",
              "    }\n",
              "\n",
              "    .dataframe thead th {\n",
              "        text-align: right;\n",
              "    }\n",
              "</style>\n",
              "<table border=\"1\" class=\"dataframe\">\n",
              "  <thead>\n",
              "    <tr style=\"text-align: right;\">\n",
              "      <th></th>\n",
              "      <th>Unnamed: 1</th>\n",
              "      <th>Unnamed: 2</th>\n",
              "    </tr>\n",
              "    <tr>\n",
              "      <th>POSITIVE</th>\n",
              "      <th></th>\n",
              "      <th></th>\n",
              "    </tr>\n",
              "  </thead>\n",
              "  <tbody>\n",
              "    <tr>\n",
              "      <th>P14543</th>\n",
              "      <td>ATTNGVVPADVILGTEDGAEYDDEDEDYDLATTRLGLEDVG</td>\n",
              "      <td>2.0</td>\n",
              "    </tr>\n",
              "    <tr>\n",
              "      <th>P14543</th>\n",
              "      <td>PADVILGTEDGAEYDDEDEDYDLATTRLGLEDVGTTPFSYK</td>\n",
              "      <td>2.0</td>\n",
              "    </tr>\n",
              "    <tr>\n",
              "      <th>P10493</th>\n",
              "      <td>TAKGVVSADVNLDLDDDGADYEDEDYDLVTSHLGLEDVATP</td>\n",
              "      <td>4.0</td>\n",
              "    </tr>\n",
              "    <tr>\n",
              "      <th>P10493</th>\n",
              "      <td>VSADVNLDLDDDGADYEDEDYDLVTSHLGLEDVATPSPSHS</td>\n",
              "      <td>4.0</td>\n",
              "    </tr>\n",
              "    <tr>\n",
              "      <th>P13521</th>\n",
              "      <td>ENKPYALNSEKNFPMDMSDDYETQQWPERKLKHMQFPPMYE</td>\n",
              "      <td>6.0</td>\n",
              "    </tr>\n",
              "  </tbody>\n",
              "</table>\n",
              "</div>"
            ],
            "text/plain": [
              "                                         Unnamed: 1  Unnamed: 2\n",
              "POSITIVE                                                       \n",
              "P14543    ATTNGVVPADVILGTEDGAEYDDEDEDYDLATTRLGLEDVG         2.0\n",
              "P14543    PADVILGTEDGAEYDDEDEDYDLATTRLGLEDVGTTPFSYK         2.0\n",
              "P10493    TAKGVVSADVNLDLDDDGADYEDEDYDLVTSHLGLEDVATP         4.0\n",
              "P10493    VSADVNLDLDDDGADYEDEDYDLVTSHLGLEDVATPSPSHS         4.0\n",
              "P13521    ENKPYALNSEKNFPMDMSDDYETQQWPERKLKHMQFPPMYE         6.0"
            ]
          },
          "metadata": {
            "tags": []
          },
          "execution_count": 25
        }
      ]
    },
    {
      "cell_type": "code",
      "metadata": {
        "id": "hOkBFOF3NuVn",
        "colab_type": "code",
        "colab": {
          "base_uri": "https://localhost:8080/",
          "height": 235
        },
        "outputId": "b72bfb73-2cec-4208-c0b6-fa1866b84584"
      },
      "source": [
        "test.head(5)"
      ],
      "execution_count": 26,
      "outputs": [
        {
          "output_type": "execute_result",
          "data": {
            "text/html": [
              "<div>\n",
              "<style scoped>\n",
              "    .dataframe tbody tr th:only-of-type {\n",
              "        vertical-align: middle;\n",
              "    }\n",
              "\n",
              "    .dataframe tbody tr th {\n",
              "        vertical-align: top;\n",
              "    }\n",
              "\n",
              "    .dataframe thead th {\n",
              "        text-align: right;\n",
              "    }\n",
              "</style>\n",
              "<table border=\"1\" class=\"dataframe\">\n",
              "  <thead>\n",
              "    <tr style=\"text-align: right;\">\n",
              "      <th></th>\n",
              "      <th>Unnamed: 1</th>\n",
              "      <th>Unnamed: 2</th>\n",
              "    </tr>\n",
              "    <tr>\n",
              "      <th>POSITIVE</th>\n",
              "      <th></th>\n",
              "      <th></th>\n",
              "    </tr>\n",
              "  </thead>\n",
              "  <tbody>\n",
              "    <tr>\n",
              "      <th>P49682</th>\n",
              "      <td>DHQVLNDAEVAALLENFSSSYDYGENESDSCCTSPPCPQDF</td>\n",
              "      <td>6.0</td>\n",
              "    </tr>\n",
              "    <tr>\n",
              "      <th>P49682</th>\n",
              "      <td>QVLNDAEVAALLENFSSSYDYGENESDSCCTSPPCPQDFSL</td>\n",
              "      <td>6.0</td>\n",
              "    </tr>\n",
              "    <tr>\n",
              "      <th>Q7M3V5</th>\n",
              "      <td>DLMDFLLEYEDEDRSKRFDDYGHMRFGKRGGEEQFDDYGHM</td>\n",
              "      <td>2.0</td>\n",
              "    </tr>\n",
              "    <tr>\n",
              "      <th>Q8NBP7</th>\n",
              "      <td>LLLLLLGPAGARAQEDEDGDYEELVLALRSEEDGLAEAPEH</td>\n",
              "      <td>23.0</td>\n",
              "    </tr>\n",
              "    <tr>\n",
              "      <th>Q9NZ53</th>\n",
              "      <td>PGSGFPSEENEESRILQPPQYFWEEEEELNDSSLDLGPTAD</td>\n",
              "      <td>7.0</td>\n",
              "    </tr>\n",
              "  </tbody>\n",
              "</table>\n",
              "</div>"
            ],
            "text/plain": [
              "                                         Unnamed: 1  Unnamed: 2\n",
              "POSITIVE                                                       \n",
              "P49682    DHQVLNDAEVAALLENFSSSYDYGENESDSCCTSPPCPQDF         6.0\n",
              "P49682    QVLNDAEVAALLENFSSSYDYGENESDSCCTSPPCPQDFSL         6.0\n",
              "Q7M3V5    DLMDFLLEYEDEDRSKRFDDYGHMRFGKRGGEEQFDDYGHM         2.0\n",
              "Q8NBP7    LLLLLLGPAGARAQEDEDGDYEELVLALRSEEDGLAEAPEH        23.0\n",
              "Q9NZ53    PGSGFPSEENEESRILQPPQYFWEEEEELNDSSLDLGPTAD         7.0"
            ]
          },
          "metadata": {
            "tags": []
          },
          "execution_count": 26
        }
      ]
    },
    {
      "cell_type": "code",
      "metadata": {
        "id": "VDSt0HcPMmod",
        "colab_type": "code",
        "colab": {
          "base_uri": "https://localhost:8080/",
          "height": 187
        },
        "outputId": "2fb0c9a1-ebac-45da-da15-223af218c682"
      },
      "source": [
        "data.info()"
      ],
      "execution_count": 13,
      "outputs": [
        {
          "output_type": "stream",
          "text": [
            "<class 'pandas.core.frame.DataFrame'>\n",
            "RangeIndex: 621 entries, 0 to 620\n",
            "Data columns (total 3 columns):\n",
            " #   Column      Non-Null Count  Dtype  \n",
            "---  ------      --------------  -----  \n",
            " 0   POSITIVE    621 non-null    object \n",
            " 1   Unnamed: 1  620 non-null    object \n",
            " 2   Unnamed: 2  200 non-null    float64\n",
            "dtypes: float64(1), object(2)\n",
            "memory usage: 14.7+ KB\n"
          ],
          "name": "stdout"
        }
      ]
    },
    {
      "cell_type": "code",
      "metadata": {
        "id": "2Gv2B3cFJu2R",
        "colab_type": "code",
        "colab": {}
      },
      "source": [
        "def getMatrixLabel(positive_position_file_name,sites, window_size=51, empty_aa = '*'):\n",
        "    # input format   label, proteinName, postion,shortsequence,\n",
        "    prot = []  # list of protein name\n",
        "    pos = []  # list of position with protein name\n",
        "    rawseq = []\n",
        "    all_label = []\n",
        "\n",
        "    short_seqs = []\n",
        "    half_len = (window_size - 1) / 2\n",
        "\n",
        "    with open(positive_position_file_name, 'r') as rf:\n",
        "        reader = csv.reader(rf)\n",
        "        for row in reader:\n",
        "\n",
        "            position = int(row[2])\n",
        "            sseq = row[3]\n",
        "            rawseq.append(row[3])\n",
        "            center = sseq[position - 1]\n",
        "            if center in sites:\n",
        "                all_label.append(int(row[0]))\n",
        "                prot.append(row[1])\n",
        "                pos.append(row[2])\n",
        "\n",
        "                #short seq\n",
        "                if position - half_len > 0:\n",
        "                    start = position - half_len\n",
        "                    left_seq = sseq[start - 1:position - 1]\n",
        "                else:\n",
        "                    left_seq = sseq[0:position - 1]\n",
        "\n",
        "                end = len(sseq)\n",
        "                if position + half_len < end:\n",
        "                    end = position + half_len\n",
        "                right_seq = sseq[position:end]\n",
        "\n",
        "                if len(left_seq) < half_len:\n",
        "                    nb_lack = half_len - len(left_seq)\n",
        "                    left_seq = ''.join([empty_aa for count in range(nb_lack)]) + left_seq\n",
        "\n",
        "                if len(right_seq) < half_len:\n",
        "                    nb_lack = half_len - len(right_seq)\n",
        "                    right_seq = right_seq + ''.join([empty_aa for count in range(nb_lack)])\n",
        "                shortseq = left_seq + center + right_seq\n",
        "                short_seqs.append(shortseq)\n",
        "                # coding = one_hot_concat(shortseq)\n",
        "                # all_codings.append(coding)\n",
        "\n",
        "        targetY = kutils.to_categorical(all_label)\n",
        "\n",
        "        ONE_HOT_SIZE = 21\n",
        "        # _aminos = 'ACDEFGHIKLMNPQRSTVWY*'\n",
        "        letterDict = {}\n",
        "        letterDict[\"A\"] = 0\n",
        "        letterDict[\"C\"] = 1\n",
        "        letterDict[\"D\"] = 2\n",
        "        letterDict[\"E\"] = 3\n",
        "        letterDict[\"F\"] = 4\n",
        "        letterDict[\"G\"] = 5\n",
        "        letterDict[\"H\"] = 6\n",
        "        letterDict[\"I\"] = 7\n",
        "        letterDict[\"K\"] = 8\n",
        "        letterDict[\"L\"] = 9\n",
        "        letterDict[\"M\"] = 10\n",
        "        letterDict[\"N\"] = 11\n",
        "        letterDict[\"P\"] = 12\n",
        "        letterDict[\"Q\"] = 13\n",
        "        letterDict[\"R\"] = 14\n",
        "        letterDict[\"S\"] = 15\n",
        "        letterDict[\"T\"] = 16\n",
        "        letterDict[\"V\"] = 17\n",
        "        letterDict[\"W\"] = 18\n",
        "        letterDict[\"Y\"] = 19\n",
        "        letterDict[\"*\"] = 20\n",
        "\n",
        "        Matr = np.zeros((len(short_seqs), window_size, ONE_HOT_SIZE))\n",
        "        samplenumber = 0\n",
        "        for seq in short_seqs:\n",
        "            AANo = 0\n",
        "            for AA in seq:\n",
        "                index = letterDict[AA]\n",
        "                Matr[samplenumber][AANo][index] = 1\n",
        "                AANo = AANo+1\n",
        "            samplenumber = samplenumber + 1\n",
        "\n",
        "    return Matr, targetY\n"
      ],
      "execution_count": 12,
      "outputs": []
    },
    {
      "cell_type": "code",
      "metadata": {
        "id": "rVtPRaLlJu-Y",
        "colab_type": "code",
        "colab": {}
      },
      "source": [
        ""
      ],
      "execution_count": null,
      "outputs": []
    },
    {
      "cell_type": "code",
      "metadata": {
        "id": "0Ayhk1ndJvHu",
        "colab_type": "code",
        "colab": {}
      },
      "source": [
        ""
      ],
      "execution_count": null,
      "outputs": []
    }
  ]
}