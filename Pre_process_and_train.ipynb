{
  "nbformat": 4,
  "nbformat_minor": 0,
  "metadata": {
    "colab": {
      "name": "Pre-process_and_train.ipynb",
      "provenance": [],
      "authorship_tag": "ABX9TyNCde9tJI+e36pw6saSCfrs",
      "include_colab_link": true
    },
    "kernelspec": {
      "name": "python3",
      "display_name": "Python 3"
    },
    "accelerator": "GPU"
  },
  "cells": [
    {
      "cell_type": "markdown",
      "metadata": {
        "id": "view-in-github",
        "colab_type": "text"
      },
      "source": [
        "<a href=\"https://colab.research.google.com/github/BatoolMM/DeepSulfation/blob/master/Pre_process_and_train.ipynb\" target=\"_parent\"><img src=\"https://colab.research.google.com/assets/colab-badge.svg\" alt=\"Open In Colab\"/></a>"
      ]
    },
    {
      "cell_type": "code",
      "metadata": {
        "id": "jUaFnVj1KG-P",
        "colab_type": "code",
        "colab": {}
      },
      "source": [
        "!pip install -Uqq fastbook\n",
        "!pip install fastcore==1.0.9\n",
        "!pip install utils"
      ],
      "execution_count": null,
      "outputs": []
    },
    {
      "cell_type": "code",
      "metadata": {
        "id": "x-Hv1efgJZ1f",
        "colab_type": "code",
        "colab": {}
      },
      "source": [
        "import pandas as pd\n",
        "import csv\n",
        "import numpy as np\n",
        "import keras.utils.np_utils as kutils\n",
        "import matplotlib.pyplot as plt\n",
        "from utils import *\n",
        "import fastbook\n",
        "from fastbook import *\n",
        "from fastai.vision.all import *\n",
        "from fastai.vision.widgets import ImageClassifierCleaner"
      ],
      "execution_count": 2,
      "outputs": []
    },
    {
      "cell_type": "code",
      "metadata": {
        "id": "vwqk_-l1Juj-",
        "colab_type": "code",
        "colab": {}
      },
      "source": [
        "file = '/content/CG-20-306_SD1.xlsx'\n",
        "training = pd.read_excel(file, sheet_name=0)\n",
        "test =pd.read_excel(file, sheet_name=1)"
      ],
      "execution_count": 12,
      "outputs": []
    },
    {
      "cell_type": "code",
      "metadata": {
        "id": "CFr8ZLiKSvTV",
        "colab_type": "code",
        "colab": {
          "base_uri": "https://localhost:8080/",
          "height": 111
        },
        "outputId": "da2380eb-6ac7-4aa1-b78b-80c02dad268f"
      },
      "source": [
        "training.head(2)"
      ],
      "execution_count": 13,
      "outputs": [
        {
          "output_type": "execute_result",
          "data": {
            "text/html": [
              "<div>\n",
              "<style scoped>\n",
              "    .dataframe tbody tr th:only-of-type {\n",
              "        vertical-align: middle;\n",
              "    }\n",
              "\n",
              "    .dataframe tbody tr th {\n",
              "        vertical-align: top;\n",
              "    }\n",
              "\n",
              "    .dataframe thead th {\n",
              "        text-align: right;\n",
              "    }\n",
              "</style>\n",
              "<table border=\"1\" class=\"dataframe\">\n",
              "  <thead>\n",
              "    <tr style=\"text-align: right;\">\n",
              "      <th></th>\n",
              "      <th>POSITIVE</th>\n",
              "      <th>Unnamed: 1</th>\n",
              "      <th>Unnamed: 2</th>\n",
              "    </tr>\n",
              "  </thead>\n",
              "  <tbody>\n",
              "    <tr>\n",
              "      <th>0</th>\n",
              "      <td>P14543</td>\n",
              "      <td>ATTNGVVPADVILGTEDGAEYDDEDEDYDLATTRLGLEDVG</td>\n",
              "      <td>2.0</td>\n",
              "    </tr>\n",
              "    <tr>\n",
              "      <th>1</th>\n",
              "      <td>P14543</td>\n",
              "      <td>PADVILGTEDGAEYDDEDEDYDLATTRLGLEDVGTTPFSYK</td>\n",
              "      <td>2.0</td>\n",
              "    </tr>\n",
              "  </tbody>\n",
              "</table>\n",
              "</div>"
            ],
            "text/plain": [
              "  POSITIVE                                 Unnamed: 1  Unnamed: 2\n",
              "0   P14543  ATTNGVVPADVILGTEDGAEYDDEDEDYDLATTRLGLEDVG         2.0\n",
              "1   P14543  PADVILGTEDGAEYDDEDEDYDLATTRLGLEDVGTTPFSYK         2.0"
            ]
          },
          "metadata": {
            "tags": []
          },
          "execution_count": 13
        }
      ]
    },
    {
      "cell_type": "code",
      "metadata": {
        "id": "juFU_v-qc9BW",
        "colab_type": "code",
        "colab": {
          "base_uri": "https://localhost:8080/",
          "height": 111
        },
        "outputId": "5361c909-d47e-4082-edb1-cf99ecb99525"
      },
      "source": [
        "removed_row = training['POSITIVE'].eq('NEGATIVE')\n",
        "mask = removed_row.cumsum().eq(0)\n",
        "training['Target'] = np.where(mask, '1', '0')\n",
        "training = training[~removed_row].copy()\n",
        "training.head(2)\n"
      ],
      "execution_count": 14,
      "outputs": [
        {
          "output_type": "execute_result",
          "data": {
            "text/html": [
              "<div>\n",
              "<style scoped>\n",
              "    .dataframe tbody tr th:only-of-type {\n",
              "        vertical-align: middle;\n",
              "    }\n",
              "\n",
              "    .dataframe tbody tr th {\n",
              "        vertical-align: top;\n",
              "    }\n",
              "\n",
              "    .dataframe thead th {\n",
              "        text-align: right;\n",
              "    }\n",
              "</style>\n",
              "<table border=\"1\" class=\"dataframe\">\n",
              "  <thead>\n",
              "    <tr style=\"text-align: right;\">\n",
              "      <th></th>\n",
              "      <th>POSITIVE</th>\n",
              "      <th>Unnamed: 1</th>\n",
              "      <th>Unnamed: 2</th>\n",
              "      <th>Target</th>\n",
              "    </tr>\n",
              "  </thead>\n",
              "  <tbody>\n",
              "    <tr>\n",
              "      <th>0</th>\n",
              "      <td>P14543</td>\n",
              "      <td>ATTNGVVPADVILGTEDGAEYDDEDEDYDLATTRLGLEDVG</td>\n",
              "      <td>2.0</td>\n",
              "      <td>1</td>\n",
              "    </tr>\n",
              "    <tr>\n",
              "      <th>1</th>\n",
              "      <td>P14543</td>\n",
              "      <td>PADVILGTEDGAEYDDEDEDYDLATTRLGLEDVGTTPFSYK</td>\n",
              "      <td>2.0</td>\n",
              "      <td>1</td>\n",
              "    </tr>\n",
              "  </tbody>\n",
              "</table>\n",
              "</div>"
            ],
            "text/plain": [
              "  POSITIVE                                 Unnamed: 1  Unnamed: 2 Target\n",
              "0   P14543  ATTNGVVPADVILGTEDGAEYDDEDEDYDLATTRLGLEDVG         2.0      1\n",
              "1   P14543  PADVILGTEDGAEYDDEDEDYDLATTRLGLEDVGTTPFSYK         2.0      1"
            ]
          },
          "metadata": {
            "tags": []
          },
          "execution_count": 14
        }
      ]
    },
    {
      "cell_type": "code",
      "metadata": {
        "id": "xnyobyNnc9Xe",
        "colab_type": "code",
        "colab": {
          "base_uri": "https://localhost:8080/",
          "height": 34
        },
        "outputId": "35189117-f381-4e5f-d3a9-371078a61a30"
      },
      "source": [
        "training.columns"
      ],
      "execution_count": 15,
      "outputs": [
        {
          "output_type": "execute_result",
          "data": {
            "text/plain": [
              "Index(['POSITIVE', 'Unnamed: 1', 'Unnamed: 2', 'Target'], dtype='object')"
            ]
          },
          "metadata": {
            "tags": []
          },
          "execution_count": 15
        }
      ]
    },
    {
      "cell_type": "code",
      "metadata": {
        "id": "RedTYxnOJuuS",
        "colab_type": "code",
        "colab": {
          "base_uri": "https://localhost:8080/",
          "height": 204
        },
        "outputId": "6e70e311-b425-4de5-f8cc-a0859a7bfff2"
      },
      "source": [
        "training.rename(\n",
        "    columns = {'POSITIVE':'ID',\n",
        "               'Unnamed: 1':'seq',\n",
        "               'Unnamed: 2': 'site',\n",
        "               'Target': 'Label'},\n",
        "    inplace = True\n",
        ")\n",
        "training.drop('site', axis=1, inplace=True)\n",
        "training.head(5)"
      ],
      "execution_count": 16,
      "outputs": [
        {
          "output_type": "execute_result",
          "data": {
            "text/html": [
              "<div>\n",
              "<style scoped>\n",
              "    .dataframe tbody tr th:only-of-type {\n",
              "        vertical-align: middle;\n",
              "    }\n",
              "\n",
              "    .dataframe tbody tr th {\n",
              "        vertical-align: top;\n",
              "    }\n",
              "\n",
              "    .dataframe thead th {\n",
              "        text-align: right;\n",
              "    }\n",
              "</style>\n",
              "<table border=\"1\" class=\"dataframe\">\n",
              "  <thead>\n",
              "    <tr style=\"text-align: right;\">\n",
              "      <th></th>\n",
              "      <th>ID</th>\n",
              "      <th>seq</th>\n",
              "      <th>Label</th>\n",
              "    </tr>\n",
              "  </thead>\n",
              "  <tbody>\n",
              "    <tr>\n",
              "      <th>0</th>\n",
              "      <td>P14543</td>\n",
              "      <td>ATTNGVVPADVILGTEDGAEYDDEDEDYDLATTRLGLEDVG</td>\n",
              "      <td>1</td>\n",
              "    </tr>\n",
              "    <tr>\n",
              "      <th>1</th>\n",
              "      <td>P14543</td>\n",
              "      <td>PADVILGTEDGAEYDDEDEDYDLATTRLGLEDVGTTPFSYK</td>\n",
              "      <td>1</td>\n",
              "    </tr>\n",
              "    <tr>\n",
              "      <th>2</th>\n",
              "      <td>P10493</td>\n",
              "      <td>TAKGVVSADVNLDLDDDGADYEDEDYDLVTSHLGLEDVATP</td>\n",
              "      <td>1</td>\n",
              "    </tr>\n",
              "    <tr>\n",
              "      <th>3</th>\n",
              "      <td>P10493</td>\n",
              "      <td>VSADVNLDLDDDGADYEDEDYDLVTSHLGLEDVATPSPSHS</td>\n",
              "      <td>1</td>\n",
              "    </tr>\n",
              "    <tr>\n",
              "      <th>4</th>\n",
              "      <td>P13521</td>\n",
              "      <td>ENKPYALNSEKNFPMDMSDDYETQQWPERKLKHMQFPPMYE</td>\n",
              "      <td>1</td>\n",
              "    </tr>\n",
              "  </tbody>\n",
              "</table>\n",
              "</div>"
            ],
            "text/plain": [
              "       ID                                        seq Label\n",
              "0  P14543  ATTNGVVPADVILGTEDGAEYDDEDEDYDLATTRLGLEDVG     1\n",
              "1  P14543  PADVILGTEDGAEYDDEDEDYDLATTRLGLEDVGTTPFSYK     1\n",
              "2  P10493  TAKGVVSADVNLDLDDDGADYEDEDYDLVTSHLGLEDVATP     1\n",
              "3  P10493  VSADVNLDLDDDGADYEDEDYDLVTSHLGLEDVATPSPSHS     1\n",
              "4  P13521  ENKPYALNSEKNFPMDMSDDYETQQWPERKLKHMQFPPMYE     1"
            ]
          },
          "metadata": {
            "tags": []
          },
          "execution_count": 16
        }
      ]
    },
    {
      "cell_type": "code",
      "metadata": {
        "id": "hOkBFOF3NuVn",
        "colab_type": "code",
        "colab": {}
      },
      "source": [
        "training.to_csv('cleaned_training.csv')"
      ],
      "execution_count": 17,
      "outputs": []
    },
    {
      "cell_type": "code",
      "metadata": {
        "id": "2Gv2B3cFJu2R",
        "colab_type": "code",
        "colab": {}
      },
      "source": [
        "def getMatrixLabel(positive_position_file_name,sites, window_size=51, empty_aa = '*'):\n",
        "    # input format   label, proteinName, postion,shortsequence,\n",
        "    prot = []  # list of protein name\n",
        "    pos = []  # list of position with protein name\n",
        "    rawseq = []\n",
        "    all_label = []\n",
        "\n",
        "    short_seqs = []\n",
        "    half_len = (window_size - 1) / 2\n",
        "\n",
        "    with open(positive_position_file_name, 'r') as rf:\n",
        "        reader = csv.reader(rf)\n",
        "        for row in reader:\n",
        "\n",
        "            position = int(row[2])\n",
        "            sseq = row[3]\n",
        "            rawseq.append(row[3])\n",
        "            center = sseq[position - 1]\n",
        "            if center in sites:\n",
        "                all_label.append(int(row[0]))\n",
        "                prot.append(row[1])\n",
        "                pos.append(row[2])\n",
        "\n",
        "                #short seq\n",
        "                if position - half_len > 0:\n",
        "                    start = position - half_len\n",
        "                    left_seq = sseq[start - 1:position - 1]\n",
        "                else:\n",
        "                    left_seq = sseq[0:position - 1]\n",
        "\n",
        "                end = len(sseq)\n",
        "                if position + half_len < end:\n",
        "                    end = position + half_len\n",
        "                right_seq = sseq[position:end]\n",
        "\n",
        "                if len(left_seq) < half_len:\n",
        "                    nb_lack = half_len - len(left_seq)\n",
        "                    left_seq = ''.join([empty_aa for count in range(nb_lack)]) + left_seq\n",
        "\n",
        "                if len(right_seq) < half_len:\n",
        "                    nb_lack = half_len - len(right_seq)\n",
        "                    right_seq = right_seq + ''.join([empty_aa for count in range(nb_lack)])\n",
        "                shortseq = left_seq + center + right_seq\n",
        "                short_seqs.append(shortseq)\n",
        "                # coding = one_hot_concat(shortseq)\n",
        "                # all_codings.append(coding)\n",
        "\n",
        "        targetY = kutils.to_categorical(all_label)\n",
        "\n",
        "        ONE_HOT_SIZE = 21\n",
        "        # _aminos = 'ACDEFGHIKLMNPQRSTVWY*'\n",
        "        letterDict = {}\n",
        "        letterDict[\"A\"] = 0\n",
        "        letterDict[\"C\"] = 1\n",
        "        letterDict[\"D\"] = 2\n",
        "        letterDict[\"E\"] = 3\n",
        "        letterDict[\"F\"] = 4\n",
        "        letterDict[\"G\"] = 5\n",
        "        letterDict[\"H\"] = 6\n",
        "        letterDict[\"I\"] = 7\n",
        "        letterDict[\"K\"] = 8\n",
        "        letterDict[\"L\"] = 9\n",
        "        letterDict[\"M\"] = 10\n",
        "        letterDict[\"N\"] = 11\n",
        "        letterDict[\"P\"] = 12\n",
        "        letterDict[\"Q\"] = 13\n",
        "        letterDict[\"R\"] = 14\n",
        "        letterDict[\"S\"] = 15\n",
        "        letterDict[\"T\"] = 16\n",
        "        letterDict[\"V\"] = 17\n",
        "        letterDict[\"W\"] = 18\n",
        "        letterDict[\"Y\"] = 19\n",
        "        letterDict[\"*\"] = 20\n",
        "\n",
        "        Matr = np.zeros((len(short_seqs), window_size, ONE_HOT_SIZE))\n",
        "        samplenumber = 0\n",
        "        for seq in short_seqs:\n",
        "            AANo = 0\n",
        "            for AA in seq:\n",
        "                index = letterDict[AA]\n",
        "                Matr[samplenumber][AANo][index] = 1\n",
        "                AANo = AANo+1\n",
        "            samplenumber = samplenumber + 1\n",
        "\n",
        "    return Matr, targetY\n"
      ],
      "execution_count": 12,
      "outputs": []
    },
    {
      "cell_type": "code",
      "metadata": {
        "id": "rVtPRaLlJu-Y",
        "colab_type": "code",
        "colab": {}
      },
      "source": [
        ""
      ],
      "execution_count": null,
      "outputs": []
    },
    {
      "cell_type": "code",
      "metadata": {
        "id": "0Ayhk1ndJvHu",
        "colab_type": "code",
        "colab": {}
      },
      "source": [
        ""
      ],
      "execution_count": null,
      "outputs": []
    },
    {
      "cell_type": "code",
      "metadata": {
        "id": "WwghyM3eStIh",
        "colab_type": "code",
        "colab": {}
      },
      "source": [
        ""
      ],
      "execution_count": null,
      "outputs": []
    }
  ]
}